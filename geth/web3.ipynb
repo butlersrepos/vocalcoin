{
 "cells": [
  {
   "cell_type": "code",
   "execution_count": 36,
   "metadata": {
    "collapsed": true,
    "deletable": true,
    "editable": true
   },
   "outputs": [],
   "source": [
    "from web3 import *\n",
    "from pprint import pprint\n",
    "import json"
   ]
  },
  {
   "cell_type": "code",
   "execution_count": 12,
   "metadata": {
    "collapsed": false,
    "deletable": true,
    "editable": true
   },
   "outputs": [
    {
     "name": "stdout",
     "output_type": "stream",
     "text": [
      "Network: 1\n"
     ]
    }
   ],
   "source": [
    "web3 = Web3(IPCProvider())\n",
    "print(\"Network: %s\" % web3.version.network)\n",
    "# 1=mainnet\n",
    "WEI = 1000000000000000000"
   ]
  },
  {
   "cell_type": "code",
   "execution_count": 3,
   "metadata": {
    "collapsed": false,
    "deletable": true,
    "editable": true
   },
   "outputs": [],
   "source": [
    "# web3.admin.peers\n"
   ]
  },
  {
   "cell_type": "code",
   "execution_count": 13,
   "metadata": {
    "collapsed": true,
    "deletable": true,
    "editable": true
   },
   "outputs": [],
   "source": [
    "smart_addr = \"0x103C2C150a2dBCC277Ee084c59881978060c8c22\"\n",
    "test_addr = \"0x1019C5010345aA47e78F58Fb90Bc797001612d64\""
   ]
  },
  {
   "cell_type": "code",
   "execution_count": 14,
   "metadata": {
    "collapsed": false,
    "deletable": true,
    "editable": true
   },
   "outputs": [
    {
     "data": {
      "text/plain": [
       "False"
      ]
     },
     "execution_count": 14,
     "metadata": {},
     "output_type": "execute_result"
    }
   ],
   "source": [
    "# web3.eth.coinbase\n",
    "# web3.version.ethereum\n",
    "web3.eth.syncing"
   ]
  },
  {
   "cell_type": "code",
   "execution_count": 20,
   "metadata": {
    "collapsed": false,
    "deletable": true,
    "editable": true
   },
   "outputs": [
    {
     "name": "stdout",
     "output_type": "stream",
     "text": [
      "Balance '0x103C2C150a2dBCC277Ee084c59881978060c8c22': 107.020000 ETH\n"
     ]
    }
   ],
   "source": [
    "smart_eth = web3.eth.getBalance(smart_addr)/WEI\n",
    "print(\"Balance '%s': %f ETH\" % (smart_addr, smart_eth))"
   ]
  },
  {
   "cell_type": "code",
   "execution_count": 22,
   "metadata": {
    "collapsed": false,
    "deletable": true,
    "editable": true
   },
   "outputs": [
    {
     "name": "stdout",
     "output_type": "stream",
     "text": [
      "4340705\n",
      "Creator functools.partial(<function call_contract_function at 0x10f50c9d8>, <web3.contract.Contract object at 0x10fee9630>, 'creator', {'to': '0x103c2c150a2dbcc277ee084c59881978060c8c22'})\n",
      "Contracts functools.partial(<function call_contract_function at 0x10f50c9d8>, <web3.contract.Contract object at 0x10fee9630>, 'newContracts', {'to': '0x103c2c150a2dbcc277ee084c59881978060c8c22'})\n",
      "OracleName functools.partial(<function call_contract_function at 0x10f50c9d8>, <web3.contract.Contract object at 0x10fee9630>, 'oracleName', {'to': '0x103c2c150a2dbcc277ee084c59881978060c8c22'})\n"
     ]
    }
   ],
   "source": [
    "contractAddress = smart_addr\n",
    "with open('abi.json', 'r') as abi_definition:\n",
    "    abi = json.load(abi_definition)\n",
    "print (web3.eth.blockNumber)\n",
    "fContract = web3.eth.contract(abi,contractAddress)\n",
    "\n",
    "print ('Creator',fContract.call().creator)\n",
    "print ('Contracts',fContract.call().newContracts)\n",
    "print ('OracleName',fContract.call().oracleName)\n"
   ]
  },
  {
   "cell_type": "code",
   "execution_count": 47,
   "metadata": {
    "collapsed": false,
    "deletable": true,
    "editable": true
   },
   "outputs": [
    {
     "data": {
      "text/plain": [
       "<web3.contract.Contract.call.<locals>.Caller at 0x10fed0ef0>"
      ]
     },
     "execution_count": 47,
     "metadata": {},
     "output_type": "execute_result"
    }
   ],
   "source": [
    "fContract.call()"
   ]
  },
  {
   "cell_type": "code",
   "execution_count": null,
   "metadata": {
    "collapsed": true,
    "deletable": true,
    "editable": true
   },
   "outputs": [],
   "source": []
  }
 ],
 "metadata": {
  "kernelspec": {
   "display_name": "Python 3",
   "language": "python",
   "name": "python3"
  },
  "language_info": {
   "codemirror_mode": {
    "name": "ipython",
    "version": 3
   },
   "file_extension": ".py",
   "mimetype": "text/x-python",
   "name": "python",
   "nbconvert_exporter": "python",
   "pygments_lexer": "ipython3",
   "version": "3.6.0"
  }
 },
 "nbformat": 4,
 "nbformat_minor": 2
}
