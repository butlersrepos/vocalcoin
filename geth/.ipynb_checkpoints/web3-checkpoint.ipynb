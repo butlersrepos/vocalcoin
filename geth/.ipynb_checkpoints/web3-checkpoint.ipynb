{
 "cells": [
  {
   "cell_type": "code",
   "execution_count": 1,
   "metadata": {
    "collapsed": true
   },
   "outputs": [],
   "source": [
    "from web3 import *"
   ]
  },
  {
   "cell_type": "code",
   "execution_count": 7,
   "metadata": {
    "collapsed": false
   },
   "outputs": [
    {
     "name": "stdout",
     "output_type": "stream",
     "text": [
      "Network: 1\n"
     ]
    }
   ],
   "source": [
    "web3 = Web3(IPCProvider())\n",
    "print(\"Network: %s\" % web3.version.network)\n",
    "# 1=mainnet"
   ]
  },
  {
   "cell_type": "code",
   "execution_count": 10,
   "metadata": {
    "collapsed": false
   },
   "outputs": [],
   "source": [
    "# web3.admin.peers\n"
   ]
  },
  {
   "cell_type": "code",
   "execution_count": 13,
   "metadata": {
    "collapsed": true
   },
   "outputs": [],
   "source": [
    "smart_addr = \"0x5acE17f87c7391E5792a7683069A8025B83bbd85\"\n",
    "test_addr = \"0x1019C5010345aA47e78F58Fb90Bc797001612d64\""
   ]
  },
  {
   "cell_type": "code",
   "execution_count": 36,
   "metadata": {
    "collapsed": false
   },
   "outputs": [
    {
     "data": {
      "text/plain": [
       "AttributeDict({'currentBlock': 181372,\n",
       " 'highestBlock': 4331988,\n",
       " 'knownStates': 262868,\n",
       " 'pulledStates': 262289,\n",
       " 'startingBlock': 0})"
      ]
     },
     "execution_count": 36,
     "metadata": {},
     "output_type": "execute_result"
    }
   ],
   "source": [
    "# web3.eth.coinbase\n",
    "web3.version.ethereum\n",
    "web3.eth.syncing"
   ]
  },
  {
   "cell_type": "code",
   "execution_count": 17,
   "metadata": {
    "collapsed": false
   },
   "outputs": [
    {
     "data": {
      "text/plain": [
       "0"
      ]
     },
     "execution_count": 17,
     "metadata": {},
     "output_type": "execute_result"
    }
   ],
   "source": [
    "web3.eth.getBalance('0xd3cda913deb6f67967b99d67acdfa1712c293601')"
   ]
  },
  {
   "cell_type": "code",
   "execution_count": 33,
   "metadata": {
    "collapsed": false
   },
   "outputs": [
    {
     "data": {
      "text/plain": [
       "['__class__',\n",
       " '__delattr__',\n",
       " '__dict__',\n",
       " '__dir__',\n",
       " '__doc__',\n",
       " '__eq__',\n",
       " '__format__',\n",
       " '__ge__',\n",
       " '__getattribute__',\n",
       " '__gt__',\n",
       " '__hash__',\n",
       " '__init__',\n",
       " '__init_subclass__',\n",
       " '__le__',\n",
       " '__lt__',\n",
       " '__module__',\n",
       " '__ne__',\n",
       " '__new__',\n",
       " '__reduce__',\n",
       " '__reduce_ex__',\n",
       " '__repr__',\n",
       " '__setattr__',\n",
       " '__sizeof__',\n",
       " '__str__',\n",
       " '__subclasshook__',\n",
       " '__weakref__',\n",
       " '_recoveryMessageHash',\n",
       " 'accounts',\n",
       " 'attach',\n",
       " 'blockNumber',\n",
       " 'call',\n",
       " 'coinbase',\n",
       " 'contract',\n",
       " 'defaultAccount',\n",
       " 'defaultBlock',\n",
       " 'defaultContractFactory',\n",
       " 'estimateGas',\n",
       " 'filter',\n",
       " 'gasPrice',\n",
       " 'getBalance',\n",
       " 'getBlock',\n",
       " 'getBlockTransactionCount',\n",
       " 'getCode',\n",
       " 'getCompilers',\n",
       " 'getFilterChanges',\n",
       " 'getFilterLogs',\n",
       " 'getLogs',\n",
       " 'getStorageAt',\n",
       " 'getTransaction',\n",
       " 'getTransactionCount',\n",
       " 'getTransactionFromBlock',\n",
       " 'getTransactionReceipt',\n",
       " 'getUncleCount',\n",
       " 'getWork',\n",
       " 'hashrate',\n",
       " 'iban',\n",
       " 'icapNamereg',\n",
       " 'mining',\n",
       " 'namereg',\n",
       " 'protocolVersion',\n",
       " 'sendRawTransaction',\n",
       " 'sendTransaction',\n",
       " 'setContractFactory',\n",
       " 'sign',\n",
       " 'syncing',\n",
       " 'uninstallFilter',\n",
       " 'web3']"
      ]
     },
     "execution_count": 33,
     "metadata": {},
     "output_type": "execute_result"
    }
   ],
   "source": [
    "dir(web3.eth)\n"
   ]
  },
  {
   "cell_type": "code",
   "execution_count": null,
   "metadata": {
    "collapsed": true
   },
   "outputs": [],
   "source": []
  },
  {
   "cell_type": "code",
   "execution_count": null,
   "metadata": {
    "collapsed": true
   },
   "outputs": [],
   "source": []
  }
 ],
 "metadata": {
  "kernelspec": {
   "display_name": "Python 3",
   "language": "python",
   "name": "python3"
  },
  "language_info": {
   "codemirror_mode": {
    "name": "ipython",
    "version": 3
   },
   "file_extension": ".py",
   "mimetype": "text/x-python",
   "name": "python",
   "nbconvert_exporter": "python",
   "pygments_lexer": "ipython3",
   "version": "3.6.0"
  }
 },
 "nbformat": 4,
 "nbformat_minor": 2
}
